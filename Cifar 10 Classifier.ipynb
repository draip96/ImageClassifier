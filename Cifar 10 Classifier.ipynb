{
 "cells": [
  {
   "cell_type": "markdown",
   "id": "7fcb6aa4",
   "metadata": {},
   "source": [
    "# CIFAR 10 Image Classifier"
   ]
  },
  {
   "cell_type": "code",
   "execution_count": 1,
   "id": "e3004b29",
   "metadata": {},
   "outputs": [
    {
     "name": "stdout",
     "output_type": "stream",
     "text": [
      "Using cuda device\n",
      "11.6\n"
     ]
    }
   ],
   "source": [
    "import torch\n",
    "import torchvision\n",
    "import torchvision.transforms as transforms\n",
    "from torch.utils.data import DataLoader\n",
    "import datetime\n",
    "import os\n",
    "os.environ[\"KMP_DUPLICATE_LIB_OK\"]=\"TRUE\"\n",
    "device = \"cuda\" if torch.cuda.is_available() else \"cpu\"\n",
    "print(f\"Using {device} device\")\n",
    "print(torch.version.cuda)"
   ]
  },
  {
   "cell_type": "markdown",
   "id": "785e12f5",
   "metadata": {},
   "source": [
    "## Getting Data"
   ]
  },
  {
   "cell_type": "code",
   "execution_count": 2,
   "id": "c1ec4699",
   "metadata": {},
   "outputs": [
    {
     "name": "stdout",
     "output_type": "stream",
     "text": [
      "Files already downloaded and verified\n",
      "['airplane', 'automobile', 'bird', 'cat', 'deer', 'dog', 'frog', 'horse', 'ship', 'truck']\n"
     ]
    },
    {
     "data": {
      "image/png": "[encoded data removed]",
      "text/plain": [
       "<Figure size 360x360 with 4 Axes>"
      ]
     },
     "metadata": {},
     "output_type": "display_data"
    }
   ],
   "source": [
    "data_viz = torchvision.datasets.CIFAR10(root=\"./data\", download=\"true\")\n",
    "\n",
    "print(data_viz.classes)\n",
    "\n",
    "import matplotlib.pyplot as plt\n",
    "\n",
    "fig = plt.figure(figsize=(5,5))\n",
    "\n",
    "for i in range(4):\n",
    "    ax1 = fig.add_subplot(2,2,i+1)\n",
    "    ax1.set_title(data_viz.classes[data_viz[i][1]])\n",
    "    ax1.set_xticks([])\n",
    "    ax1.set_yticks([])\n",
    "    ax1.imshow(data_viz[i][0])"
   ]
  },
  {
   "cell_type": "code",
   "execution_count": 3,
   "id": "9fe17437",
   "metadata": {},
   "outputs": [
    {
     "name": "stdout",
     "output_type": "stream",
     "text": [
      "Files already downloaded and verified\n",
      "Files already downloaded and verified\n"
     ]
    }
   ],
   "source": [
    "transform = transforms.Compose([\n",
    "    transforms.ToTensor()\n",
    "])\n",
    "\n",
    "trainset = torchvision.datasets.CIFAR10(root=\"./data\", download=\"true\", train=True, transform = transform)\n",
    "testset = torchvision.datasets.CIFAR10(root=\"./data\", download=\"true\", train=False, transform = transform)\n",
    "\n",
    "trainloader = DataLoader(trainset, batch_size=64, shuffle=True, pin_memory=True, num_workers=2)\n",
    "testloader = DataLoader(testset, batch_size=64, shuffle=False, pin_memory=True, num_workers=2)"
   ]
  },
  {
   "cell_type": "markdown",
   "id": "2740a050",
   "metadata": {},
   "source": [
    "## Building Model"
   ]
  },
  {
   "cell_type": "code",
   "execution_count": 4,
   "id": "a617641e",
   "metadata": {},
   "outputs": [
    {
     "name": "stdout",
     "output_type": "stream",
     "text": [
      "Using cuda device\n"
     ]
    }
   ],
   "source": [
    "import torch.nn as nn\n",
    "import torch.nn.functional as F\n",
    "\n",
    "device = \"cuda\" if torch.cuda.is_available() else \"cpu\"\n",
    "print(f\"Using {device} device\")\n",
    "\n",
    "class Net(nn.Module):\n",
    "    def __init__(self):\n",
    "        super().__init__()\n",
    "        self.conv1 = nn.Conv2d(3, 32, 3, padding=1)\n",
    "        self.conv2 = nn.Conv2d(32, 32, 3, padding=1)\n",
    "        self.conv3 = nn.Conv2d(32, 64, 3, padding=1)\n",
    "        self.conv4 = nn.Conv2d(64, 64, 3, padding=1)\n",
    "        self.conv5 = nn.Conv2d(64, 128, 3, padding=1)\n",
    "        self.conv6 = nn.Conv2d(128, 128, 3, padding=1)\n",
    "        \n",
    "        self.pool = nn.MaxPool2d(2, 2)\n",
    "        \n",
    "        self.bn1 = nn.BatchNorm2d(32)\n",
    "        self.bn2 = nn.BatchNorm2d(32)\n",
    "        \n",
    "        self.bn3 = nn.BatchNorm2d(64)\n",
    "        self.bn4 = nn.BatchNorm2d(64)\n",
    "        \n",
    "        self.bn5 = nn.BatchNorm2d(128)\n",
    "        self.bn6 = nn.BatchNorm2d(128)\n",
    "        \n",
    "        self.bnfc = nn.BatchNorm1d(128)\n",
    "        \n",
    "        self.dropout1 = nn.Dropout2d(0.3)\n",
    "        self.dropout2 = nn.Dropout2d(0.5)\n",
    "        self.dropout3 = nn.Dropout(0.5)\n",
    "        \n",
    "        self.fc1 = nn.Linear(2048, 128)\n",
    "        self.fc2 = nn.Linear(128, 10)\n",
    "        \n",
    "    def forward(self, x):\n",
    "\n",
    "        x = self.bn1(F.relu(self.conv1(x)))   \n",
    "        x = self.bn2(F.relu(self.conv2(x)))\n",
    "        x = self.dropout1(self.pool(x))\n",
    "        \n",
    "        x = self.bn3(F.relu(self.conv3(x)))\n",
    "        x = self.bn4(F.relu(self.conv4(x)))\n",
    "        x = self.dropout2(self.pool(x))       \n",
    "        \n",
    "        x = self.bn5(F.relu(self.conv5(x)))\n",
    "        x = self.bn6(F.relu(self.conv6(x)))\n",
    "        x = self.dropout2(self.pool(x))\n",
    "        \n",
    "        x = torch.flatten(x, 1)\n",
    "        x = self.bnfc(F.relu(self.fc1(x)))\n",
    "        x = self.dropout3(x)\n",
    "        x = self.fc2(x)\n",
    "        \n",
    "        return x\n",
    "    \n",
    "net = Net().to(device)"
   ]
  },
  {
   "cell_type": "code",
   "execution_count": 5,
   "id": "4ef3d0ca",
   "metadata": {},
   "outputs": [
    {
     "name": "stdout",
     "output_type": "stream",
     "text": [
      "==========================================================================================\n",
      "Layer (type:depth-idx)                   Output Shape              Param #\n",
      "==========================================================================================\n",
      "├─Conv2d: 1-1                            [-1, 32, 32, 32]          896\n",
      "├─BatchNorm2d: 1-2                       [-1, 32, 32, 32]          64\n",
      "├─Conv2d: 1-3                            [-1, 32, 32, 32]          9,248\n",
      "├─BatchNorm2d: 1-4                       [-1, 32, 32, 32]          64\n",
      "├─MaxPool2d: 1-5                         [-1, 32, 16, 16]          --\n",
      "├─Dropout2d: 1-6                         [-1, 32, 16, 16]          --\n",
      "├─Conv2d: 1-7                            [-1, 64, 16, 16]          18,496\n",
      "├─BatchNorm2d: 1-8                       [-1, 64, 16, 16]          128\n",
      "├─Conv2d: 1-9                            [-1, 64, 16, 16]          36,928\n",
      "├─BatchNorm2d: 1-10                      [-1, 64, 16, 16]          128\n",
      "├─MaxPool2d: 1-11                        [-1, 64, 8, 8]            --\n",
      "├─Dropout2d: 1-12                        [-1, 64, 8, 8]            --\n",
      "├─Conv2d: 1-13                           [-1, 128, 8, 8]           73,856\n",
      "├─BatchNorm2d: 1-14                      [-1, 128, 8, 8]           256\n",
      "├─Conv2d: 1-15                           [-1, 128, 8, 8]           147,584\n",
      "├─BatchNorm2d: 1-16                      [-1, 128, 8, 8]           256\n",
      "├─MaxPool2d: 1-17                        [-1, 128, 4, 4]           --\n",
      "├─Dropout2d: 1-18                        [-1, 128, 4, 4]           --\n",
      "├─Linear: 1-19                           [-1, 128]                 262,272\n",
      "├─BatchNorm1d: 1-20                      [-1, 128]                 256\n",
      "├─Dropout: 1-21                          [-1, 128]                 --\n",
      "├─Linear: 1-22                           [-1, 10]                  1,290\n",
      "==========================================================================================\n",
      "Total params: 551,722\n",
      "Trainable params: 551,722\n",
      "Non-trainable params: 0\n",
      "Total mult-adds (M): 38.90\n",
      "==========================================================================================\n",
      "Input size (MB): 0.01\n",
      "Forward/backward pass size (MB): 1.75\n",
      "Params size (MB): 2.10\n",
      "Estimated Total Size (MB): 3.87\n",
      "==========================================================================================\n"
     ]
    },
    {
     "data": {
      "text/plain": [
       "==========================================================================================\n",
       "Layer (type:depth-idx)                   Output Shape              Param #\n",
       "==========================================================================================\n",
       "├─Conv2d: 1-1                            [-1, 32, 32, 32]          896\n",
       "├─BatchNorm2d: 1-2                       [-1, 32, 32, 32]          64\n",
       "├─Conv2d: 1-3                            [-1, 32, 32, 32]          9,248\n",
       "├─BatchNorm2d: 1-4                       [-1, 32, 32, 32]          64\n",
       "├─MaxPool2d: 1-5                         [-1, 32, 16, 16]          --\n",
       "├─Dropout2d: 1-6                         [-1, 32, 16, 16]          --\n",
       "├─Conv2d: 1-7                            [-1, 64, 16, 16]          18,496\n",
       "├─BatchNorm2d: 1-8                       [-1, 64, 16, 16]          128\n",
       "├─Conv2d: 1-9                            [-1, 64, 16, 16]          36,928\n",
       "├─BatchNorm2d: 1-10                      [-1, 64, 16, 16]          128\n",
       "├─MaxPool2d: 1-11                        [-1, 64, 8, 8]            --\n",
       "├─Dropout2d: 1-12                        [-1, 64, 8, 8]            --\n",
       "├─Conv2d: 1-13                           [-1, 128, 8, 8]           73,856\n",
       "├─BatchNorm2d: 1-14                      [-1, 128, 8, 8]           256\n",
       "├─Conv2d: 1-15                           [-1, 128, 8, 8]           147,584\n",
       "├─BatchNorm2d: 1-16                      [-1, 128, 8, 8]           256\n",
       "├─MaxPool2d: 1-17                        [-1, 128, 4, 4]           --\n",
       "├─Dropout2d: 1-18                        [-1, 128, 4, 4]           --\n",
       "├─Linear: 1-19                           [-1, 128]                 262,272\n",
       "├─BatchNorm1d: 1-20                      [-1, 128]                 256\n",
       "├─Dropout: 1-21                          [-1, 128]                 --\n",
       "├─Linear: 1-22                           [-1, 10]                  1,290\n",
       "==========================================================================================\n",
       "Total params: 551,722\n",
       "Trainable params: 551,722\n",
       "Non-trainable params: 0\n",
       "Total mult-adds (M): 38.90\n",
       "==========================================================================================\n",
       "Input size (MB): 0.01\n",
       "Forward/backward pass size (MB): 1.75\n",
       "Params size (MB): 2.10\n",
       "Estimated Total Size (MB): 3.87\n",
       "=========================================================================================="
      ]
     },
     "execution_count": 5,
     "metadata": {},
     "output_type": "execute_result"
    }
   ],
   "source": [
    "from torchsummary import summary\n",
    "summary(net, (3, 32, 32))"
   ]
  },
  {
   "cell_type": "markdown",
   "id": "a96a7daa",
   "metadata": {},
   "source": [
    "## Training Model"
   ]
  },
  {
   "cell_type": "code",
   "execution_count": 6,
   "id": "bf702042",
   "metadata": {},
   "outputs": [],
   "source": [
    "import torch.optim as optim\n",
    "\n",
    "criterion = nn.CrossEntropyLoss()\n",
    "optimizer = optim.Adam(net.parameters(),eps=1e-07)\n",
    "\n",
    "def train(dataloader, model, loss_fn, optimizer, out=False):\n",
    "    model.train()\n",
    "    size = len(dataloader.dataset)\n",
    "    num_batches = len(dataloader)\n",
    "    correct, train_loss = 0, 0\n",
    "    \n",
    "    for batch, (X, y) in enumerate(dataloader):\n",
    "        bs = X.shape[0]\n",
    "        X, y = X.to(device), y.to(device)\n",
    "\n",
    "        pred = model(X)\n",
    "        loss = loss_fn(pred, y)\n",
    "        \n",
    "        train_loss += loss.item()\n",
    "        correct += (pred.argmax(1) == y).type(torch.float).sum().item()\n",
    "        \n",
    "        optimizer.zero_grad()\n",
    "        loss.backward()\n",
    "        optimizer.step()\n",
    "        \n",
    "        if batch == num_batches-1:\n",
    "            correct /= size\n",
    "            train_loss /= num_batches\n",
    "            if out == True:\n",
    "                print(f\"Train Error: \\n  Accuracy: {(100*correct):>0.1f}% Loss: {train_loss:>4f}\")\n",
    "\n",
    " "
   ]
  },
  {
   "cell_type": "code",
   "execution_count": 7,
   "id": "967245f7",
   "metadata": {},
   "outputs": [],
   "source": [
    "losses = []\n",
    "def test(dataloader, model, loss_fn, out=False):\n",
    "    size = len(dataloader.dataset)\n",
    "    num_batches = len(dataloader)\n",
    "    model.eval()\n",
    "    test_loss, correct = 0, 0\n",
    "    with torch.no_grad():\n",
    "        for X, y in dataloader:\n",
    "            X, y = X.to(device), y.to(device)\n",
    "            pred = model(X)\n",
    "            test_loss += loss_fn(pred, y).item()\n",
    "            correct += (pred.argmax(1) == y).type(torch.float).sum().item()\n",
    "    test_loss /= num_batches\n",
    "    correct /= size\n",
    "    losses.append(test_loss)\n",
    "    if out == True:\n",
    "        print(f\"Test Error: \\n  Accuracy: {(100*correct):>0.1f}%, Avg loss: {test_loss:>8f} \\n\")"
   ]
  },
  {
   "cell_type": "code",
   "execution_count": 8,
   "id": "0e4e93af",
   "metadata": {},
   "outputs": [
    {
     "name": "stdout",
     "output_type": "stream",
     "text": [
      "Epoch 1\n",
      "-------------------------------\n",
      "Train Error: \n",
      "  Accuracy: 41.1% Loss: 1.609617\n",
      "Test Error: \n",
      "  Accuracy: 56.0%, Avg loss: 1.195972 \n",
      "\n",
      "Epoch 10\n",
      "-------------------------------\n",
      "Train Error: \n",
      "  Accuracy: 74.3% Loss: 0.748985\n",
      "Test Error: \n",
      "  Accuracy: 79.2%, Avg loss: 0.609118 \n",
      "\n",
      "Epoch 20\n",
      "-------------------------------\n",
      "Train Error: \n",
      "  Accuracy: 79.4% Loss: 0.607053\n",
      "Test Error: \n",
      "  Accuracy: 82.3%, Avg loss: 0.525537 \n",
      "\n",
      "Epoch 30\n",
      "-------------------------------\n",
      "Train Error: \n",
      "  Accuracy: 81.8% Loss: 0.533280\n",
      "Test Error: \n",
      "  Accuracy: 83.6%, Avg loss: 0.491145 \n",
      "\n",
      "Epoch 40\n",
      "-------------------------------\n",
      "Train Error: \n",
      "  Accuracy: 83.5% Loss: 0.484179\n",
      "Test Error: \n",
      "  Accuracy: 84.6%, Avg loss: 0.470213 \n",
      "\n",
      "Epoch 50\n",
      "-------------------------------\n",
      "Train Error: \n",
      "  Accuracy: 84.7% Loss: 0.444012\n",
      "Test Error: \n",
      "  Accuracy: 84.5%, Avg loss: 0.466200 \n",
      "\n",
      "Epoch 60\n",
      "-------------------------------\n",
      "Train Error: \n",
      "  Accuracy: 85.3% Loss: 0.422243\n",
      "Test Error: \n",
      "  Accuracy: 85.0%, Avg loss: 0.460879 \n",
      "\n",
      "Epoch 70\n",
      "-------------------------------\n",
      "Train Error: \n",
      "  Accuracy: 86.5% Loss: 0.395259\n",
      "Test Error: \n",
      "  Accuracy: 85.7%, Avg loss: 0.450431 \n",
      "\n",
      "Epoch 80\n",
      "-------------------------------\n",
      "Train Error: \n",
      "  Accuracy: 86.9% Loss: 0.379210\n",
      "Test Error: \n",
      "  Accuracy: 85.6%, Avg loss: 0.449015 \n",
      "\n",
      "Epoch 90\n",
      "-------------------------------\n",
      "Train Error: \n",
      "  Accuracy: 87.6% Loss: 0.367139\n",
      "Test Error: \n",
      "  Accuracy: 85.5%, Avg loss: 0.457355 \n",
      "\n",
      "Epoch 100\n",
      "-------------------------------\n",
      "Train Error: \n",
      "  Accuracy: 87.7% Loss: 0.355116\n",
      "Test Error: \n",
      "  Accuracy: 85.7%, Avg loss: 0.451951 \n",
      "\n",
      "Done!\n",
      "0:33:37.259442\n"
     ]
    }
   ],
   "source": [
    "start = datetime.datetime.now()\n",
    "epochs = 100\n",
    "for t in range(epochs):\n",
    "    if (t+1) % 10 == 0 or t == 0:\n",
    "        print(f\"Epoch {t+1}\\n-------------------------------\")\n",
    "        train(trainloader, net, criterion, optimizer, True)\n",
    "        test(testloader, net, criterion, True)\n",
    "    else:\n",
    "        train(trainloader, net, criterion, optimizer)\n",
    "        test(testloader, net, criterion)\n",
    "    \n",
    "print(\"Done!\")\n",
    "end = datetime.datetime.now()\n",
    "print(end-start)"
   ]
  },
  {
   "cell_type": "code",
   "execution_count": 9,
   "id": "7f8b4211",
   "metadata": {},
   "outputs": [
    {
     "data": {
      "image/png": "[encoded data removed]",
      "text/plain": [
       "<Figure size 432x288 with 1 Axes>"
      ]
     },
     "metadata": {
      "needs_background": "light"
     },
     "output_type": "display_data"
    }
   ],
   "source": [
    "plt.plot(losses)\n",
    "plt.show()"
   ]
  },
  {
   "cell_type": "markdown",
   "id": "954543c6",
   "metadata": {},
   "source": [
    "## Predictions"
   ]
  },
  {
   "cell_type": "code",
   "execution_count": 10,
   "id": "e4ab6921",
   "metadata": {},
   "outputs": [
    {
     "name": "stdout",
     "output_type": "stream",
     "text": [
      "1 dog\n",
      "2 cat\n",
      "3 bird\n"
     ]
    },
    {
     "data": {
      "image/png": "[encoded data removed]",
      "text/plain": [
       "<Figure size 432x288 with 1 Axes>"
      ]
     },
     "metadata": {
      "needs_background": "light"
     },
     "output_type": "display_data"
    }
   ],
   "source": [
    "from PIL import Image\n",
    "\n",
    "im = Image.open(\"doggy.jpg\") \n",
    "  \n",
    "trans = transforms.Compose([\n",
    "    transforms.Resize((32,32)),\n",
    "    transforms.ToTensor()\n",
    "])\n",
    "check = trans(im)\n",
    "check = check.reshape(1,3,32,32)\n",
    "check = check.to(device)\n",
    "\n",
    "net.eval()\n",
    "outs = net(check)\n",
    "\n",
    "top3 = torch.topk(outs[0], 3).indices\n",
    "\n",
    "    \n",
    "im = transforms.Resize((32,32))(im)\n",
    "plt.title(testloader.dataset.classes[outs.argmax(1)])\n",
    "plt.imshow(im)\n",
    "\n",
    "for i in range(3):\n",
    "    print(i+1, testloader.dataset.classes[top3[i].item()])"
   ]
  },
  {
   "cell_type": "code",
   "execution_count": 11,
   "id": "7001ee45",
   "metadata": {},
   "outputs": [],
   "source": [
    "PATH = './cifar_net.pth'\n",
    "torch.save(net.state_dict(), PATH)"
   ]
  }
 ],
 "metadata": {
  "kernelspec": {
   "display_name": "Python 3 (ipykernel)",
   "language": "python",
   "name": "python3"
  },
  "language_info": {
   "codemirror_mode": {
    "name": "ipython",
    "version": 3
   },
   "file_extension": ".py",
   "mimetype": "text/x-python",
   "name": "python",
   "nbconvert_exporter": "python",
   "pygments_lexer": "ipython3",
   "version": "3.9.13"
  }
 },
 "nbformat": 4,
 "nbformat_minor": 5
}
